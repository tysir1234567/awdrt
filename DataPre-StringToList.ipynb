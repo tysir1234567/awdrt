{
 "metadata": {
  "language_info": {
   "codemirror_mode": {
    "name": "ipython",
    "version": 3
   },
   "file_extension": ".py",
   "mimetype": "text/x-python",
   "name": "python",
   "nbconvert_exporter": "python",
   "pygments_lexer": "ipython3",
   "version": "3.7.3-final"
  },
  "orig_nbformat": 2,
  "kernelspec": {
   "name": "python3",
   "display_name": "Python 3",
   "language": "python"
  }
 },
 "nbformat": 4,
 "nbformat_minor": 2,
 "cells": [
  {
   "cell_type": "code",
   "execution_count": 2,
   "metadata": {},
   "outputs": [],
   "source": [
    "import pandas\n",
    "import numpy\n"
   ]
  },
  {
   "cell_type": "code",
   "execution_count": 3,
   "metadata": {},
   "outputs": [
    {
     "output_type": "execute_result",
     "data": {
      "text/plain": [
       "1771"
      ]
     },
     "metadata": {},
     "execution_count": 3
    }
   ],
   "source": [
    "len(paragra)"
   ]
  },
  {
   "cell_type": "code",
   "execution_count": 20,
   "metadata": {
    "tags": []
   },
   "outputs": [
    {
     "output_type": "stream",
     "name": "stdout",
     "text": [
      "['1. Ping can _________\\na) Measure round-trip time\\nb) Report packet loss\\nc) Report latency\\nd) All of the mentioned\\nView Answer Answer: d\\nExplanation: PING (Packet Internet Groper) command is the best way to test connectivity between two nodes, whether it is Local Area Network (LAN) or Wide Area Network (WAN). Ping uses ICMP (Internet Control Message Protocol) to communicate to other devices.', '', '', '', '\\n2. Ping sweep is a part of _________\\na) Traceroute\\nb) Nmap\\nc) Route\\nd) Ipconfig\\nView Answer Answer: b\\nExplanation: A ping sweep is a method that can establish a range of IP addresses which map to live hosts and are mostly used by network scanning tools like nmap. A ping sweep is basically a collective ping command execution on a range of IP addresses.', '\\n3. ICMP is used in _________\\na) Ping\\nb) Traceroute\\nc) Ifconfig\\nd) Both Ping & Traceroute\\nView Answer Answer: d\\nExplanation: ICMP stands for Internet Control Message Protocol. ICMP operates over the IP packet to provide error reporting functionality, so in case the node is not active or there is no route, ICMP will be \\nused to report the specific errors for Ping and Traceroute.', '\\n4. __________ command is used to manipulate TCP/IP routing table.\\na) route\\nb) Ipconfig\\nc) Ifconfig\\nd) Traceroute\\nView Answer Answer: a\\nExplanation: The route command is used to view and manipulate the TCP/IP routing table in Windows OS. The manipulations done in the routing table with the help of this command will count as static routes.    ', '', '', '']\n"
     ]
    }
   ],
   "source": [
    "li=[]\n",
    "temp=\"\"\n",
    "for i in range(0,len(paragra)-1):\n",
    "    if paragra[i]=='\\n' and paragra[i+1]=='\\n':\n",
    "        li.append(temp)\n",
    "        temp=\"\"\n",
    "    else:\n",
    "        temp+=paragra[i]\n",
    "print(li)\n",
    "len(li)\n",
    "with open('text.txt','w') as file:\n",
    "    for i in li:\n",
    "       file.write(i)\n"
   ]
  },
  {
   "cell_type": "code",
   "execution_count": null,
   "metadata": {},
   "outputs": [],
   "source": []
  }
 ]
}