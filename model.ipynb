{
 "metadata": {
  "language_info": {
   "codemirror_mode": {
    "name": "ipython",
    "version": 3
   },
   "file_extension": ".py",
   "mimetype": "text/x-python",
   "name": "python",
   "nbconvert_exporter": "python",
   "pygments_lexer": "ipython3",
   "version": "3.7.3-final"
  },
  "orig_nbformat": 2,
  "kernelspec": {
   "name": "python3",
   "display_name": "Python 3",
   "language": "python"
  }
 },
 "nbformat": 4,
 "nbformat_minor": 2,
 "cells": [
  {
   "cell_type": "code",
   "execution_count": 2,
   "metadata": {},
   "outputs": [],
   "source": [
    "from sentence_transformers import SentenceTransformer\n",
    "import pandas as pd"
   ]
  },
  {
   "cell_type": "code",
   "execution_count": 3,
   "metadata": {},
   "outputs": [],
   "source": [
    "model = SentenceTransformer('bert-base-nli-mean-tokens')"
   ]
  },
  {
   "cell_type": "code",
   "execution_count": 7,
   "metadata": {},
   "outputs": [
    {
     "output_type": "execute_result",
     "data": {
      "text/plain": [
       "__________\\r\\na) randomly\\r\\nb) sequentially\\r\\nc) exponentially\\r\\nd) logarithmically\\r\\nView AnswerAnswer: a\\r\\nExplanation: Elements in an array are accessed randomly. In Linked lists, elements are accessed sequentially.\\r\\nSanfoundry Global Education & Learning Series ï¿½ Data Structure.\\r\\nTo practice all areas of Data Structure, here is complete set of 1000+ Multiple Choice Questions and Answers.',\n",
       " '\\r\\nï¿½ Next - Data Structure Questions and Answers ï¿½ Stack Operations ï¿½ 1 1. Process of inserting an element in stack is called ____________\\r\\na) Create\\r\\nb) Push\\r\\nc) Evaluation\\r\\nd) Pop\\r\\nView AnswerAnswer: b\\r\\nExplanation: Push operation allows users to insert elements in the stack. If the stack is filled completely and trying to perform push operation stack ï¿½ overflow can happen.',\n",
       " '\\r\\n2. Process of removing an element from stack is called __________\\r\\na) Create\\r\\nb) Push\\r\\nc) Evaluation\\r\\nd) Pop\\r\\nView AnswerAnswer: d\\r\\nExplanation: Elements in the stack are removed using pop operation. Pop operation removes the top most element in the stack i.e. last entered element.',\n",
       " '\\r\\n3. In a stack, if a user tries to remove an element from an empty stack it is called _________\\r\\na) Underflow\\r\\nb) Empty collection\\r\\nc) Overflow\\r\\nd) Garbage Collection\\r\\nView AnswerAnswer: a\\r\\nExplanation: Underflow occurs when the user performs a pop operation on an empty stack. Overflow occurs when the stack is full and the user performs a push operation. Garbage Collection is used to recover the memory occupied by objects that are no longer used.',\n",
       " '\\r\\n4. Pushing an element into stack already having five elements and stack size of 5, then stack becomes ___________\\r\\na) Overflow\\r\\nb) Crash\\r\\nc) Underflow\\r\\nd) User flow\\r\\nView AnswerAnswer: a\\r\\nExplanation: The stack is filled with 5 elements and pushing one more element causes a stack overflow. This results in overwriting memory, code and loss of unsaved work on the computer.',\n",
       " '\\r\\n5. Entries in a stack are ï¿½orderedï¿½. What is the meaning of this statement?\\r\\na) A collection of stacks is sortable\\r\\nb) Stack entries may be compared with the ï¿½<ï¿½ operation\\r\\nc) The entries are stored in a linked list\\r\\nd) There is a Sequential entry that is one by one\\r\\nView AnswerAnswer: d\\r\\nExplanation: In stack data structure, elements are added one by one using push operation. Stack follows LIFO Principle i.e. Last In First Out(LIFO).',\n",
       " '\\r\\n6. Which of the following is not the application of stack?\\r\\na) A parentheses balancing program\\r\\nb) Tracking of local variables at run time\\r\\nc) Compiler Syntax Analyzer\\r\\nd) Data Transfer between two asynchronous process\\r\\nView AnswerAnswer: d\\r\\nExplanation: Data transfer between the two asynchronous process uses the queue data structure for synchronisation. The rest are all stack applications.',\n",
       " '\\r\\n7. Consider the usual algorithm for determining whether a sequence of parentheses is balanced. The maximum number of parentheses that appear on the stack AT ANY ONE TIME when the algorithm analyzes: (()(())(()))?\\r\\na) 1\\r\\nb) 2\\r\\nc) 3\\r\\nd) 4 or more\\r\\nView AnswerAnswer: c\\r\\nExplanation: In the entire parenthesis balancing method when the incoming token is a left parenthesis it is pushed into stack. A right parenthesis makes pop operation to delete the elements in stack till we get left parenthesis as top most element. 3 elements are there in stack before right parentheses comes. Therefore, maximum number of elements in stack at run time is 3.',\n",
       " '\\r\\n8. Consider the usual algorithm for determining whether a sequence of parentheses is balanced. Suppose that you run the algorithm on a sequence that contains 2 left parentheses and 3 right parentheses (in some order). The maximum number of parentheses that appear on the stack AT ANY ONE TIME during the computation?\\r\\na) 1\\r\\nb) 2\\r\\nc) 3\\r\\nd) 4 or more\\r\\nView AnswerAnswer: b\\r\\nExplanation: In the entire parenthesis balancing method when the incoming token is a left parenthesis it is pushed into stack. A right parenthesis makes pop operation to delete the elements in stack till we get left parenthesis as top most element. 2 left parenthesis are pushed whereas one right parenthesis removes one of left parenthesis. 2 elements are there before right parenthesis which is the maximum number of elements in stack at run time.',\n",
       " '\\r\\n9. What is the value of the postfix expression 6 3 2 4 + ï¿½ *?\\r\\na) 1\\r\\nb) 40\\r\\nc) 74\\r\\nd) -18\\r\\nView AnswerAnswer: d\\r\\nExplanation: Postfix Expression is (6*(3-(2+4))) which results -18 as output.',\n",
       " '\\r\\n10. Here is an infix expression: 4 + 3*(6*3-12). Suppose that we are using the usual stack algorithm to convert the expression from infix to postfix notation. The maximum number of symbols that will appear on the stack AT ONE TIME during the conversion of this expression?\\r\\na) 1\\r\\nb) 2\\r\\nc) 3\\r\\nd) 4\\r\\nView AnswerAnswer: d\\r\\nExplanation: When we perform the conversion from infix to postfix expression +, *, (, * symbols are placed inside the stack. A maximum of 4 symbols are identified during the entire conversion.',\n",
       " '\\r\\nSanfoundry Global Education & Learning Series ï¿½ Data Structure.\\r\\nTo practice all areas of Data Structure, here is complete set of 1000+ Multiple Choice Questions and Answers.',\n",
       " '\\r\\nï¿½ Prev - Data Structure Questions and Answers ï¿½ Array and Array Operationsï¿½ Next - Data Structure Questions and Answers ï¿½ Stack Operations ï¿½ 2 1. The postfix form of the expression (A+ B)*(C*D- E)*F / G is?\\r\\na) AB+ CD*E ï¿½ FG /**\\r\\nb) AB + CD* E ï¿½ F **G /\\r\\nc) AB + CD* E ï¿½ *F *G /\\r\\nd) AB + CDE * ï¿½ * F *G /\\r\\nView AnswerAnswer: c\\r\\nExplanation: (((A+ B)*(C*D- E)*F) / G) is converted to postfix expression as\\r\\n(AB+(*(C*D- E)*F )/ G)\\r\\n(AB+CD*E-*F) / G\\r\\n(AB+CD*E-*F * G/). Thus Postfix expression is AB+CD*E-*F*G/',\n",
       " '\\r\\n2. The data structure required to check whether an expression contains a balanced parenthesis is?\\r\\na) Stack\\r\\nb) Queue\\r\\nc) Array\\r\\nd) Tree\\r\\nView AnswerAnswer: a\\r\\nExplanation: The stack is a simple data structure in which elements are added and removed based on the LIFO principle. Open parenthesis is pushed into the stack and a closed parenthesis pops out elements till the top element of the stack is its corresponding open parenthesis. If the stack is empty, parenthesis is balanced otherwise it is unbalanced.',\n",
       " '\\r\\n3. What data structure would you mostly likely see in non recursive implementation of a recursive algorithm?\\r\\na) Linked List\\r\\nb) Stack\\r\\nc) Queue\\r\\nd) Tree\\r\\nView AnswerAnswer: b\\r\\nExplanation: In recursive algorithms, the order in which the recursive process comes back is the reverse of the order in which it goes forward during execution. The compiler uses the stack data structure to implement recursion. In the forwarding phase, the values of local variables, parameters and the return address are pushed into the stack at each recursion level. In the backing-out phase, the stacked address is popped and used to execute the rest of the code.',\n",
       " '\\r\\n4. The process of accessing data stored in a serial access memory is similar to manipulating data on a ________\\r\\na) Heap\\r\\nb) Binary Tree\\r\\nc) Array\\r\\nd) Stack\\r\\nView AnswerAnswer: d\\r\\nExplanation: In serial access memory data records are stored one after the other in which they are created and are accessed sequentially. In stack data structure, elements are accessed sequentially. Stack data structure resembles the serial access memory.',\n",
       " '\\r\\n5. The postfix form of A*B+C/D is?\\r\\na) *AB/CD+\\r\\nb) AB*CD/+\\r\\nc) A*BC+/D\\r\\nd) ABCD+/*\\r\\nView AnswerAnswer: b\\r\\nExplanation: Infix expression is (A*B)+(C/D)\\r\\nAB*+(C/D)\\r\\nAB*CD/+. Thus postfix expression is AB*CD/+.',\n",
       " '\\r\\n6. Which data structure is needed to convert infix notation to postfix notation?\\r\\na) Branch\\r\\nb) Tree\\r\\nc) Queue\\r\\nd) Stack\\r\\nView AnswerAnswer: d\\r\\nExplanation: The Stack data structure is used to convert infix expression to postfix expression. The purpose of stack is to reverse the order of the operators in the expression. It also serves as a storage structure, as no operator can be printed until both of its operands have appeared.',\n",
       " '\\r\\n7. The prefix form of A-B/ (C * D ^ E) is?\\r\\na) -/*^ACBDE\\r\\nb) -ABCD*^DE\\r\\nc) -A/B*C^DE\\r\\nd) -A/BC*^DE\\r\\nView AnswerAnswer: c\\r\\nExplanation: Infix Expression is (A-B)/(C*D^E)\\r\\n(-A/B)(C*D^E)\\r\\n-A/B*C^DE. Thus prefix expression is -A/B*C^DE.',\n",
       " '\\r\\n8. What is the result of the following operation?\\r\\nTop (Push (S, X))\\r\\na) X\\r\\nb) X+S\\r\\nc) S\\r\\nd) XS\\r\\nView AnswerAnswer: a\\r\\nExplanation: The function Push(S,X) pushes the value X in the stack S. Top() function gives the value which entered last. X entered into stack S at last.',\n",
       " '\\r\\n9. The prefix form of an infix expression (p + q) ï¿½ (r * t) is?\\r\\na) + pq ï¿½ *rt\\r\\nb) ï¿½ +pqr * t\\r\\nc) ï¿½ +pq * rt\\r\\nd) ï¿½ + * pqrt\\r\\nView AnswerAnswer: c\\r\\nExplanation: Given Infix Expression is ((p+q)-(r*t))\\r\\n(+pq)-(r*t)\\r\\n(-+pq)(r*t)\\r\\n-+pq*rt. Thus prefix expression is -+pq*rt.',\n",
       " '\\r\\n10. Which data structure is used for implementing recursion?\\r\\na) Queue\\r\\nb) Stack\\r\\nc) Array\\r\\nd) List\\r\\nView AnswerAnswer: b\\r\\nExplanation: Stacks are used for the implementation of Recursion.',\n",
       " '\\r\\nSanfoundry Global Education & Learning Series ï¿½ Data Structure.\\r\\nTo practice all areas of Data Structure for Interviews, here is complete set of 1000+ Multiple Choice Questions and Answers.',\n",
       " '\\r\\nï¿½ Prev - Data Structure Questions and Answers ï¿½ Stack Operations ï¿½ 1ï¿½ Next - Data Structure Questions and Answers ï¿½ Stack Operations ï¿½ 3 1. The result of evaluating the postfix expression 5, 4, 6, +, *, 4, 9, 3, /, +, * is?\\r\\na) 600\\r\\nb) 350\\r\\nc) 650\\r\\nd) 588\\r\\nView AnswerAnswer: b\\r\\nExplanation: The postfix expression is evaluated using stack. We will get the infix expression as\\r\\n(5*(4+6))*(4+9/3). On solving the Infix Expression, we get\\r\\n(5*(10))*(4+3)\\r\\n= 50*7\\r\\n= 350.',\n",
       " '\\r\\n2. Convert the following infix expressions into its equivalent postfix expressions.\\r\\n(A + B D)/(E ï¿½ F)+G\\r\\na) (A B D  + E F ï¿½ / G +)\\r\\nb) (A B D + E F ï¿½ / G +)\\r\\nc) (A B D  + E F/- G +)\\r\\nd) (A B D  E F +  / ï¿½ G +)\\r\\nView AnswerAnswer: a\\r\\nExplanation: The given infix expression is (A + B D)/(E ï¿½ F)+G.\\r\\n(A B D ^ + ) / (E ï¿½ F) +G\\r\\n(A B D ^ + E F ï¿½ ) + G. ï¿½/ï¿½ is present in stack.\\r\\nA B D ^ + E F ï¿½ / G +. Thus Postfix Expression is A B D ^ + E F ï¿½ / G +.',\n",
       " '\\r\\n3. Convert the following Infix expression to Postfix form using a stack.\\r\\nx + y * z + (p * q + r) * s, Follow usual precedence rule and assume that the expression is legal.\\r\\na) xyz*+pq*r+s*+\\r\\nb) xyz*+pq*r+s+*\\r\\nc) xyz+*pq*r+s*+\\r\\nd) xyzp+**qr+s*+\\r\\nView AnswerAnswer: a\\r\\nExplanation: The Infix Expression is x + y * z + (p * q + r) * s.\\r\\n(x y z ) + (p * q + r) * s. ï¿½+ï¿½, ï¿½*ï¿½ are present in stack.\\r\\n(x y z * + p q * r) * s. ï¿½+ï¿½ is present in stack.\\r\\nx y z * + p q * r + s * +. Thus Postfix Expression is x y z * + p q * r + s * +.',\n",
       " '\\r\\n4. Which of the following statement(s) about stack data structure is/are NOT correct?\\r\\na) Linked List are used for implementing Stacks\\r\\nb) Top of the Stack always contain the new node\\r\\nc) Stack is the FIFO data structure\\r\\nd) Null link is present in the last node at the bottom of the stack\\r\\nView AnswerAnswer: c\\r\\nExplanation: Stack follows LIFO.',\n",
       " '\\r\\n5. Consider the following operation performed on a stack of size 5.\\r\\nPush(1);',\n",
       " '\\r\\nPop();',\n",
       " '\\r\\nPush(2);',\n",
       " '\\r\\nPush(3);',\n",
       " '\\r\\nPop();',\n",
       " '\\r\\nPush(4);',\n",
       " '\\r\\nPop();',\n",
       " '\\r\\nPop();',\n",
       " '\\r\\nPush(5);',\n",
       " '\\r\\nAfter the completion of all operation, the number of elements present in stack is?\\r\\na) 1\\r\\nb) 2\\r\\nc) 3\\r\\nd) 4\\r\\nView AnswerAnswer: a\\r\\nExplanation: Number of elements present in stack is equal to the difference between number of push operations and number of pop operations. Number of elements is 5-4=1.',\n",
       " '\\r\\n6. Which of the following is not an inherent application of stack?\\r\\na) Reversing a string\\r\\nb) Evaluation of postfix expression\\r\\nc) Implementation of recursion\\r\\nd) Job scheduling\\r\\nView AnswerAnswer: d\\r\\nExplanation: Job Scheduling is not performed using stacks.',\n",
       " '\\r\\n7. The type of expression in which operator succeeds its operands is?\\r\\na) Infix Expression\\r\\nb) Prefix Expression\\r\\nc) Postfix Expression\\r\\nd) Both Prefix and Postfix Expressions\\r\\nView AnswerAnswer: c\\r\\nExplanation: The expression in which operator succeeds its operands is called postfix expression. The expression in which operator precedes the operands is called prefix expression. If an operator is present between two operands, then it is called infix expressions.',\n",
       " '\\r\\n8. Assume that the operators +,-, X are left associative and ^ is right associative. The order of precedence (from highest to lowest) is ^, X, +, -. The postfix expression for the infix expression a + b X c ï¿½ d ^ e ^ f is?\\r\\na) abc X+ def ^^ ï¿½\\r\\nb) abc X+ de^f^ ï¿½\\r\\nc) ab+c Xd ï¿½ e ^f^\\r\\nd) -+aXbc^ ^def\\r\\nView AnswerAnswer: b\\r\\nExplanation: Given Infix Expression is a + b X c ï¿½ d ^ e ^ f.\\r\\n(a b c X +) (d ^ e ^ f). ï¿½ï¿½ï¿½ is present in stack.\\r\\n(a b c X + d e ^ f ^ -). Thus the final expression is (a b c X + d e ^ f ^ -).',\n",
       " '\\r\\n9. If the elements ï¿½Aï¿½, ï¿½Bï¿½, ï¿½Cï¿½ and ï¿½Dï¿½ are placed in a stack and are deleted one at a time, what is the order of removal?\\r\\na) ABCD\\r\\nb) DCBA\\r\\nc) DCAB\\r\\nd) ABDC\\r\\nView AnswerAnswer: b\\r\\nExplanation: Stack follows LIFO(Last In First Out). So the removal order of elements are DCBA.',\n",
       " '\\r\\nSanfoundry Global Education & Learning Series ï¿½ Data Structure.\\r\\nTo practice all areas of Data Structure for Freshers, here is complete set of 1000+ Multiple Choice Questions and Answers.',\n",
       " '\\r\\nï¿½ Prev - Data Structure Questions and Answers ï¿½ Stack Operations ï¿½ 2ï¿½ Next - Data Structure Questions and Answers ï¿½ Queue Operations 1. A linear list of elements in which deletion can be done from one end (front) and insertion can take place only at the other end (rear) is known as _____________\\r\\na) Queue\\r\\nb) Stack\\r\\nc) Tree\\r\\nd) Linked list\\r\\nView AnswerAnswer: a\\r\\nExplanation: Linear list of elements in which deletion is done at front side and insertion at rear side is called Queue. In stack we will delete the last entered element first.',\n",
       " '\\r\\n2. The data structure required for Breadth First Traversal on a graph is?\\r\\na) Stack\\r\\nb) Array\\r\\nc) Queue\\r\\nd) Tree\\r\\nView AnswerAnswer: c\\r\\nExplanation: In Breadth First Search Traversal, BFS, starting vertex is first taken and adjacent vertices which are unvisited are also taken. Again, the first vertex which was added as an unvisited adjacent vertex list will be considered to add further unvisited vertices of the graph. To get the first unvisited vertex we need to follows First In First Out principle. Queue uses FIFO principle.',\n",
       " '\\r\\n3. A queue follows __________\\r\\na) FIFO (First In First Out) principle\\r\\nb) LIFO (Last In First Out) principle\\r\\nc) Ordered array\\r\\nd) Linear tree\\r\\nView AnswerAnswer: a\\r\\nExplanation: Element first added in queue will be deleted first which is FIFO principle.',\n",
       " '\\r\\n4. Circular Queue is also known as ________\\r\\na) Ring Buffer\\r\\nb) Square Buffer\\r\\nc) Rectangle Buffer\\r\\nd) Curve Buffer\\r\\nView AnswerAnswer: a\\r\\nExplanation: Circular Queue is also called as Ring Buffer. Circular Queue is a linear data structure in which last position is connected back to the first position to make a circle. It forms a ring structure.',\n",
       " '\\r\\n5. If the elements ï¿½Aï¿½, ï¿½Bï¿½, ï¿½Cï¿½ and ï¿½Dï¿½ are placed in a queue and are deleted one at a time, in what order will they be removed?\\r\\na) ABCD\\r\\nb) DCBA\\r\\nc) DCAB\\r\\nd) ABDC\\r\\nView AnswerAnswer: a\\r\\nExplanation: Queue follows FIFO approach. i.e. First in First Out Approach. So, the order of removal elements are ABCD.',\n",
       " '\\r\\n6. A data structure in which elements can be inserted or deleted at/from both ends but not in the middle is?\\r\\na) Queue\\r\\nb) Circular queue\\r\\nc) Dequeue\\r\\nd) Priority queue\\r\\nView AnswerAnswer: c\\r\\nExplanation: In dequeuer, we can insert or delete elements from both the ends. In queue, we will follow first in first out principle for insertion and deletion of elements. Element with least priority will be deleted in a priority queue.',\n",
       " '\\r\\n7. A normal queue, if implemented using an array of size MAX_SIZE, gets full when?\\r\\na) Rear = MAX_SIZE ï¿½ 1\\r\\nb) Front = (rear + 1)mod MAX_SIZE\\r\\nc) Front = rear + 1\\r\\nd) Rear = front\\r\\nView AnswerAnswer: a\\r\\nExplanation: When Rear = MAX_SIZE ï¿½ 1, there will be no space left for the elements to be added in queue. Thus queue becomes full.',\n",
       " '\\r\\n8. Queues serve major role in ______________\\r\\na) Simulation of recursion\\r\\nb) Simulation of arbitrary linked list\\r\\nc) Simulation of limited resource allocation\\r\\nd) Simulation of heap sort\\r\\nView AnswerAnswer: c\\r\\nExplanation: Simulation of recursion uses stack data structure. Simulation of arbitrary linked lists uses linked lists. Simulation of resource allocation uses queue as first entered data needs to be given first priority during resource allocation. Simulation of heap sort uses heap data structure.',\n",
       " '\\r\\n9. Which of the following is not the type of queue?\\r\\na) Ordinary queue\\r\\nb) Single ended queue\\r\\nc) Circular queue\\r\\nd) Priority queue\\r\\nView AnswerAnswer: b\\r\\nExplanation: Queue always has two ends. So, single ended queue is not the type of queue.',\n",
       " '\\r\\nSanfoundry Global Education & Learning Series ï¿½ Data Structure.',\n",
       " '\\r\\nTo practice all areas of Data Structure, here is complete set of 1000+ Multiple Choice Questions and Answers.',\n",
       " '\\r\\nï¿½ Prev - Data Structure Questions and Answers ï¿½ Stack Operations ï¿½ 3ï¿½ Next - Data Structure Questions and Answers ï¿½ Singly Linked List Operations ï¿½ 1 1. A linear collection of data elements where the linear node is given by means of pointer is called?\\r\\na) Linked list\\r\\nb) Node list\\r\\nc) Primitive list\\r\\nd) Unordered list\\r\\nView AnswerAnswer: a\\r\\nExplanation: In Linked list each node has its own data and the address of next node. These nodes are linked by using pointers. Node list is an object that consists of a list of all nodes in a document with in a particular selected set of nodes.',\n",
       " '\\r\\n2. Consider an implementation of unsorted singly linked list. Suppose it has its representation with a head pointer only. Given the representation, which of the following operation can be implemented in O(1) time?\\r\\ni) Insertion at the front of the linked list\\r\\nii) Insertion at the end of the linked list\\r\\niii) Deletion of the front node of the linked list\\r\\niv) Deletion of the last node of the linked list\\r\\na) I and II\\r\\nb) I and III\\r\\nc) I, II and III\\r\\nd) I, II and IV\\r\\nView AnswerAnswer: b\\r\\nExplanation: We know the head node in the given linked list. Insertion and deletion of elements at the front of the linked list completes in O (1) time whereas for insertion and deletion at the last node requires to traverse through every node in the linked list. Suppose there are n elements in a linked list, we need to traverse through each node. Hence time complexity becomes O(n).',\n",
       " '\\r\\n3. In linked list each node contains a minimum of two fields. One field is data field to store the data second field is?\\r\\na) Pointer to character\\r\\nb) Pointer to integer\\r\\nc) Pointer to node\\r\\nd) Node\\r\\nView AnswerAnswer: c\\r\\nExplanation: Each node in a linked list contains data and a pointer (reference) to the next node. Second field contains pointer to node.',\n",
       " '\\r\\n4. What would be the asymptotic time complexity to add a node at the end of singly linked list, if the pointer is initially pointing to the head of the list?\\r\\na) O(1)\\r\\nb) O(n)\\r\\nc) (n)\\r\\nd) (1)\\r\\nView AnswerAnswer: c\\r\\nExplanation: In case of a linked list having n elements, we need to travel through every node of the list to add the element at the end of the list. Thus asymptotic time complexity is (n).']"
      ]
     },
     "metadata": {},
     "execution_count": 7
    }
   ],
   "source": [
    "df=pd.read_csv('test.csv')\n",
    "sentences=df['mcqs'].tolist()\n",
    "sentences"
   ]
  },
  {
   "cell_type": "code",
   "execution_count": 6,
   "metadata": {},
   "outputs": [],
   "source": [
    "sentence_embeddings=model.encode(sentences)"
   ]
  },
  {
   "cell_type": "code",
   "execution_count": 11,
   "metadata": {},
   "outputs": [
    {
     "output_type": "execute_result",
     "data": {
      "text/plain": [
       "768"
      ]
     },
     "metadata": {},
     "execution_count": 11
    }
   ],
   "source": [
    "len(sentence_embedding[0])"
   ]
  },
  {
   "cell_type": "code",
   "execution_count": 12,
   "metadata": {},
   "outputs": [],
   "source": [
    "import scipy"
   ]
  },
  {
   "cell_type": "code",
   "execution_count": 14,
   "metadata": {},
   "outputs": [
    {
     "output_type": "stream",
     "name": "stdout",
     "text": [
      "Semantic Search Results\n\n\n======================\n\n\nQuery: Someone is running\n\nTop 5 most similar sentences in corpus:\nAbsence of sanity (Cosine Score: 0.4173)\nLack of saneness (Cosine Score: 0.3991)\nA cheetah is running behind its prey. (Cosine Score: 0.3810)\n"
     ]
    }
   ],
   "source": [
    "query = 'How do you initialize an array in C'\n",
    "\n",
    "queries = [query]\n",
    "query_embeddings = model.encode(queries)\n",
    "\n",
    "number_top_matches = 3\n",
    "\n",
    "for query, query_embedding in zip(queries, query_embeddings):\n",
    "    distances = scipy.spatial.distance.cdist([query_embedding], sentence_embeddings, \"cosine\")[0]\n",
    "\n",
    "    results = zip(range(len(distances)), distances)\n",
    "    results = sorted(results, key=lambda x: x[1]) \n",
    "\n",
    "    for idx, distance in results[0:number_top_matches]:\n",
    "        print(sentences[idx].strip(), \"(Cosine Score: %.4f)\" % (1-distance))"
   ]
  },
  {
   "cell_type": "code",
   "execution_count": null,
   "metadata": {},
   "outputs": [],
   "source": []
  }
 ]
}