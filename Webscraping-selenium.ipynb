{
 "cells": [
  {
   "cell_type": "code",
   "execution_count": 78,
   "metadata": {},
   "outputs": [],
   "source": [
    "import requests\n",
    "from bs4 import BeautifulSoup\n",
    "from selenium import webdriver\n",
    "from selenium.webdriver.common.keys import Keys\n",
    "from selenium.webdriver.chrome.options import Options\n",
    "import time"
   ]
  },
  {
   "cell_type": "code",
   "execution_count": 79,
   "metadata": {},
   "outputs": [],
   "source": [
    "url=\"https://www.sanfoundry.com/microprocessors-mcqs-machine-language-instruction-formats/\""
   ]
  },
  {
   "cell_type": "code",
   "execution_count": 80,
   "metadata": {},
   "outputs": [],
   "source": [
    "chrome_options = Options()\n",
    "chrome_options.add_argument(\"--disable-javascript\")\n",
    "driver=webdriver.Chrome('./chromedriver',chrome_options=chrome_options)\n",
    "driver.get(url)"
   ]
  },
  {
   "cell_type": "code",
   "execution_count": 81,
   "metadata": {},
   "outputs": [
    {
     "output_type": "stream",
     "name": "stdout",
     "text": [
      "This set of Microprocessor Multiple Choice Questions & Answers (MCQs) focuses on “Machine Language Instruction Formats”.\n1. Operation code field is present in :\na) programming language instruction\nb) assembly language instruction\nc) machine language instruction\nd) none of the mentioned\nView Answer\n\n2. A machine language instruction format consists of\na) Operand field\nb) Operation code field\nc) Operation code field & operand field\nd) none of the mentioned\nView Answer\n\n3. The length of the one-byte instruction is\na) 2 bytes\nb) 1 byte\nc) 3 bytes\nd) 4 bytes\nView Answer\n\n4. The instruction format ‘register to register’ has a length of\na) 2 bytes\nb) 1 byte\nc) 3 bytes\nd) 4 bytes\nView Answer\n\n5. The R/M field in a machine instruction format specifies\na) another register\nb) another memory location\nc) other operands\nd) all of the mentioned\nView Answer\n\n6. In a machine instruction format, S-bit is the\na) status bit\nb) sign bit\nc) sign extension bit\nd) none of the mentioned\nView Answer\n\n7. The bit which is used by the ‘REP’ instruction is\na) W-bit\nb) S-bit\nc) V-bit\nd) Z-bit\nView Answer\n\n8. If a W-bit value is ‘1’ then the operand is of\na) 8 bits\nb) 4 bits\nc) 16 bits\nd) 2 bits\nView Answer\n\n9. The instructions which after execution transfer control to the next instruction in the sequence are called\na) Sequential control flow instructions\nb) control transfer instructions\nc) Sequential control flow & control transfer instructions\nd) none of the mentioned\nView Answer\n\n10. The instructions that transfer the control to some predefined address or the address specified in the instruction are called as\na) sequential control flow instructions\nb) control transfer instructions\nc) sequential control flow & control transfer instructions\nd) none of the mentioned\nView Answer\n\n11. The instruction “JUMP” belongs to\na) sequential control flow instructions\nb) control transfer instructions\nc) branch instructions\nd) control transfer & branch instructions\nView Answer\n\nSanfoundry Global Education & Learning Series – Microprocessors.\nHere’s the list of Best Reference Books in Microprocessors.\nTo practice all areas of Microprocessors, here is complete set of 1000+ Multiple Choice Questions and Answers.\nParticipate in the Sanfoundry Certification contest to get free Certificate of Merit. Join our social networks below and stay updated with latest contests, videos, internships and jobs!\nYoutube | LinkedIn | Instagram | Facebook | Twitter | Pinterest\n» Next - Microprocessors Questions and Answers – Addressing Modes of 8086\n"
     ]
    }
   ],
   "source": [
    "mcqlist=driver.find_elements_by_class_name('entry-content')\n",
    "for mcq in mcqlist:\n",
    "    print(mcq.text)"
   ]
  },
  {
   "cell_type": "code",
   "execution_count": null,
   "metadata": {},
   "outputs": [],
   "source": []
  }
 ],
 "metadata": {
  "kernelspec": {
   "display_name": "Python 3",
   "language": "python",
   "name": "python3"
  },
  "language_info": {
   "codemirror_mode": {
    "name": "ipython",
    "version": 3
   },
   "file_extension": ".py",
   "mimetype": "text/x-python",
   "name": "python",
   "nbconvert_exporter": "python",
   "pygments_lexer": "ipython3",
   "version": "3.7.3-final"
  }
 },
 "nbformat": 4,
 "nbformat_minor": 4
}