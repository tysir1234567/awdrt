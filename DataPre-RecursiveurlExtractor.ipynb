{
 "metadata": {
  "language_info": {
   "codemirror_mode": {
    "name": "ipython",
    "version": 3
   },
   "file_extension": ".py",
   "mimetype": "text/x-python",
   "name": "python",
   "nbconvert_exporter": "python",
   "pygments_lexer": "ipython3",
   "version": "3.7.3-final"
  },
  "orig_nbformat": 2,
  "kernelspec": {
   "name": "python3",
   "display_name": "Python 3",
   "language": "python"
  }
 },
 "nbformat": 4,
 "nbformat_minor": 2,
 "cells": [
  {
   "cell_type": "code",
   "execution_count": 14,
   "metadata": {},
   "outputs": [],
   "source": [
    "from bs4 import BeautifulSoup \n",
    "import requests \n",
    "\n",
    "urls=[] \n",
    "\n",
    "def geturl(site): \n",
    "    r = requests.get(site) \n",
    "    s = BeautifulSoup(r.text,\"html.parser\") \n",
    "    for i in s.find_all(\"a\"): \n",
    "        href = i.attrs['href'] \n",
    "        if href.startswith(\"/\"): \n",
    "            site = site+href \n",
    "            if site not in  urls: \n",
    "                urls.append(site)  \n",
    "                print(site) \n",
    "                geturl(site)\n",
    "site=\"https://www.sanfoundry.com/computer-science-questions-answers/\"\n",
    "geturl(site) \n",
    "with open('urls.txt','w') as file:\n",
    "    file.write(urls)"
   ]
  },
  {
   "cell_type": "code",
   "execution_count": null,
   "metadata": {},
   "outputs": [],
   "source": []
  }
 ]
}